{
 "cells": [
  {
   "cell_type": "code",
   "execution_count": 1,
   "id": "immune-archive",
   "metadata": {},
   "outputs": [],
   "source": [
    "import pandas as pd\n",
    "import numpy as np\n",
    "import matplotlib.pyplot as plt\n",
    "import seaborn as sns\n",
    "\n",
    "from sklearn import svm\n",
    "# from sklearn.linear_model import LogisticRegression\n",
    "# from sklearn.pipeline import make_pipeline\n",
    "\n",
    "# from sklearn.preprocessing import StandardScaler\n",
    "# from sklearn.model_selection import train_test_split\n",
    "from sklearn.model_selection import cross_val_score\n",
    "# from sklearn.metrics import confusion_matrix, accuracy_score, classification_report\n",
    "from sklearn.decomposition import PCA"
   ]
  },
  {
   "cell_type": "code",
   "execution_count": 2,
   "id": "double-kentucky",
   "metadata": {},
   "outputs": [],
   "source": [
    "import warnings\n",
    "warnings.filterwarnings('ignore')"
   ]
  },
  {
   "cell_type": "markdown",
   "id": "driving-boards",
   "metadata": {},
   "source": [
    "# 1. Importing Data"
   ]
  },
  {
   "cell_type": "code",
   "execution_count": 3,
   "id": "intended-print",
   "metadata": {},
   "outputs": [
    {
     "data": {
      "text/plain": [
       "('RNASeqData.xlsx', <http.client.HTTPMessage at 0x17a49e5fe20>)"
      ]
     },
     "execution_count": 3,
     "metadata": {},
     "output_type": "execute_result"
    }
   ],
   "source": [
    "import urllib\n",
    "dls = \"https://www.ncbi.nlm.nih.gov/geo/download/?acc=GSE124548&format=file&file=GSE124548%5FAllData%5F170308%5FRNAseq%5FKopp%5FResults%2Exlsx\"\n",
    "urllib.request.urlretrieve(dls, \"RNASeqData.xlsx\")"
   ]
  },
  {
   "cell_type": "markdown",
   "id": "embedded-closing",
   "metadata": {},
   "source": [
    "a. Load the file 'RNASeqData.xlsx' and save it as a pandas dataframe called data_df"
   ]
  },
  {
   "cell_type": "code",
   "execution_count": 29,
   "id": "arranged-officer",
   "metadata": {},
   "outputs": [
    {
     "data": {
      "text/plain": [
       "(15570, 139)"
      ]
     },
     "execution_count": 29,
     "metadata": {},
     "output_type": "execute_result"
    }
   ],
   "source": [
    "data_df = pd.read_excel(r'I:\\My Drive\\5. MachineLearning&dataSci\\Assignment\\wk4\\RNAseqData_CF40.xlsx', index_col=0)\n",
    "data_df.shape"
   ]
  },
  {
   "cell_type": "code",
   "execution_count": 5,
   "id": "protecting-albania",
   "metadata": {},
   "outputs": [
    {
     "data": {
      "text/html": [
       "<div>\n",
       "<style scoped>\n",
       "    .dataframe tbody tr th:only-of-type {\n",
       "        vertical-align: middle;\n",
       "    }\n",
       "\n",
       "    .dataframe tbody tr th {\n",
       "        vertical-align: top;\n",
       "    }\n",
       "\n",
       "    .dataframe thead th {\n",
       "        text-align: right;\n",
       "    }\n",
       "</style>\n",
       "<table border=\"1\" class=\"dataframe\">\n",
       "  <thead>\n",
       "    <tr style=\"text-align: right;\">\n",
       "      <th></th>\n",
       "      <th>ID</th>\n",
       "      <th>Description</th>\n",
       "      <th>EntrezID</th>\n",
       "      <th>Class</th>\n",
       "      <th>pre_drug.vs.control_ShrunkenLog2FC</th>\n",
       "      <th>pre_drug.vs.control_MLELog2FC</th>\n",
       "      <th>pre_drug.vs.control_pVal</th>\n",
       "    </tr>\n",
       "    <tr>\n",
       "      <th>RowID</th>\n",
       "      <th></th>\n",
       "      <th></th>\n",
       "      <th></th>\n",
       "      <th></th>\n",
       "      <th></th>\n",
       "      <th></th>\n",
       "      <th></th>\n",
       "    </tr>\n",
       "  </thead>\n",
       "  <tbody>\n",
       "    <tr>\n",
       "      <th>1</th>\n",
       "      <td>A1BG</td>\n",
       "      <td>alpha-1-B glycoprotein</td>\n",
       "      <td>1</td>\n",
       "      <td>protein_coding</td>\n",
       "      <td>-0.050497</td>\n",
       "      <td>-0.066327</td>\n",
       "      <td>0.691693</td>\n",
       "    </tr>\n",
       "    <tr>\n",
       "      <th>2</th>\n",
       "      <td>A1BG-AS1</td>\n",
       "      <td>A1BG antisense RNA 1</td>\n",
       "      <td>503538</td>\n",
       "      <td>lncRNA</td>\n",
       "      <td>0.004178</td>\n",
       "      <td>0.032895</td>\n",
       "      <td>0.971929</td>\n",
       "    </tr>\n",
       "    <tr>\n",
       "      <th>3</th>\n",
       "      <td>A2M-AS1</td>\n",
       "      <td>A2M antisense RNA 1 (head to head)</td>\n",
       "      <td>144571</td>\n",
       "      <td>lncRNA</td>\n",
       "      <td>0.356337</td>\n",
       "      <td>0.932311</td>\n",
       "      <td>0.050847</td>\n",
       "    </tr>\n",
       "    <tr>\n",
       "      <th>4</th>\n",
       "      <td>AAAS</td>\n",
       "      <td>aladin WD repeat nucleoporin</td>\n",
       "      <td>8086</td>\n",
       "      <td>protein_coding</td>\n",
       "      <td>-0.139005</td>\n",
       "      <td>-0.152091</td>\n",
       "      <td>0.285215</td>\n",
       "    </tr>\n",
       "    <tr>\n",
       "      <th>5</th>\n",
       "      <td>AACS</td>\n",
       "      <td>acetoacetyl-CoA synthetase</td>\n",
       "      <td>65985</td>\n",
       "      <td>protein_coding</td>\n",
       "      <td>0.138032</td>\n",
       "      <td>0.143003</td>\n",
       "      <td>0.088856</td>\n",
       "    </tr>\n",
       "  </tbody>\n",
       "</table>\n",
       "</div>"
      ],
      "text/plain": [
       "             ID                         Description  EntrezID           Class  \\\n",
       "RowID                                                                           \n",
       "1          A1BG              alpha-1-B glycoprotein         1  protein_coding   \n",
       "2      A1BG-AS1                A1BG antisense RNA 1    503538          lncRNA   \n",
       "3       A2M-AS1  A2M antisense RNA 1 (head to head)    144571          lncRNA   \n",
       "4          AAAS        aladin WD repeat nucleoporin      8086  protein_coding   \n",
       "5          AACS          acetoacetyl-CoA synthetase     65985  protein_coding   \n",
       "\n",
       "       pre_drug.vs.control_ShrunkenLog2FC  pre_drug.vs.control_MLELog2FC  \\\n",
       "RowID                                                                      \n",
       "1                               -0.050497                      -0.066327   \n",
       "2                                0.004178                       0.032895   \n",
       "3                                0.356337                       0.932311   \n",
       "4                               -0.139005                      -0.152091   \n",
       "5                                0.138032                       0.143003   \n",
       "\n",
       "       pre_drug.vs.control_pVal  \n",
       "RowID                            \n",
       "1                      0.691693  \n",
       "2                      0.971929  \n",
       "3                      0.050847  \n",
       "4                      0.285215  \n",
       "5                      0.088856  "
      ]
     },
     "execution_count": 5,
     "metadata": {},
     "output_type": "execute_result"
    }
   ],
   "source": [
    "data_df.iloc[:,:7].head()"
   ]
  },
  {
   "cell_type": "markdown",
   "id": "demanding-rugby",
   "metadata": {},
   "source": [
    "b. Filter the dataframe to only contain the 60 columns. Call it raw_data.\n",
    "Save the \"ID\" as gene_ids"
   ]
  },
  {
   "cell_type": "code",
   "execution_count": 6,
   "id": "suitable-resource",
   "metadata": {},
   "outputs": [
    {
     "data": {
      "text/plain": [
       "(15570, 60)"
      ]
     },
     "execution_count": 6,
     "metadata": {},
     "output_type": "execute_result"
    }
   ],
   "source": [
    "raw_data = data_df.iloc[:,79:]\n",
    "raw_data.shape"
   ]
  },
  {
   "cell_type": "code",
   "execution_count": 7,
   "id": "nasty-puzzle",
   "metadata": {},
   "outputs": [
    {
     "data": {
      "text/html": [
       "<div>\n",
       "<style scoped>\n",
       "    .dataframe tbody tr th:only-of-type {\n",
       "        vertical-align: middle;\n",
       "    }\n",
       "\n",
       "    .dataframe tbody tr th {\n",
       "        vertical-align: top;\n",
       "    }\n",
       "\n",
       "    .dataframe thead th {\n",
       "        text-align: right;\n",
       "    }\n",
       "</style>\n",
       "<table border=\"1\" class=\"dataframe\">\n",
       "  <thead>\n",
       "    <tr style=\"text-align: right;\">\n",
       "      <th></th>\n",
       "      <th>Raw_10_HC_Auto_066_237</th>\n",
       "      <th>Raw_11_Orkambi_006_Base</th>\n",
       "      <th>Raw_12_Orkambi_007_V2</th>\n",
       "      <th>Raw_13_HC_Auto_068_239</th>\n",
       "      <th>Raw_14_Orkambi_007_Base</th>\n",
       "    </tr>\n",
       "    <tr>\n",
       "      <th>RowID</th>\n",
       "      <th></th>\n",
       "      <th></th>\n",
       "      <th></th>\n",
       "      <th></th>\n",
       "      <th></th>\n",
       "    </tr>\n",
       "  </thead>\n",
       "  <tbody>\n",
       "    <tr>\n",
       "      <th>1</th>\n",
       "      <td>81</td>\n",
       "      <td>38</td>\n",
       "      <td>112</td>\n",
       "      <td>46</td>\n",
       "      <td>64</td>\n",
       "    </tr>\n",
       "    <tr>\n",
       "      <th>2</th>\n",
       "      <td>49</td>\n",
       "      <td>31</td>\n",
       "      <td>84</td>\n",
       "      <td>26</td>\n",
       "      <td>38</td>\n",
       "    </tr>\n",
       "    <tr>\n",
       "      <th>3</th>\n",
       "      <td>74</td>\n",
       "      <td>108</td>\n",
       "      <td>62</td>\n",
       "      <td>47</td>\n",
       "      <td>41</td>\n",
       "    </tr>\n",
       "    <tr>\n",
       "      <th>4</th>\n",
       "      <td>161</td>\n",
       "      <td>86</td>\n",
       "      <td>197</td>\n",
       "      <td>92</td>\n",
       "      <td>116</td>\n",
       "    </tr>\n",
       "    <tr>\n",
       "      <th>5</th>\n",
       "      <td>199</td>\n",
       "      <td>128</td>\n",
       "      <td>198</td>\n",
       "      <td>117</td>\n",
       "      <td>162</td>\n",
       "    </tr>\n",
       "  </tbody>\n",
       "</table>\n",
       "</div>"
      ],
      "text/plain": [
       "       Raw_10_HC_Auto_066_237  Raw_11_Orkambi_006_Base  Raw_12_Orkambi_007_V2  \\\n",
       "RowID                                                                           \n",
       "1                          81                       38                    112   \n",
       "2                          49                       31                     84   \n",
       "3                          74                      108                     62   \n",
       "4                         161                       86                    197   \n",
       "5                         199                      128                    198   \n",
       "\n",
       "       Raw_13_HC_Auto_068_239  Raw_14_Orkambi_007_Base  \n",
       "RowID                                                   \n",
       "1                          46                       64  \n",
       "2                          26                       38  \n",
       "3                          47                       41  \n",
       "4                          92                      116  \n",
       "5                         117                      162  "
      ]
     },
     "execution_count": 7,
     "metadata": {},
     "output_type": "execute_result"
    }
   ],
   "source": [
    "raw_data.iloc[:,:5].head()"
   ]
  },
  {
   "cell_type": "code",
   "execution_count": 8,
   "id": "corresponding-review",
   "metadata": {},
   "outputs": [
    {
     "data": {
      "text/plain": [
       "15570"
      ]
     },
     "execution_count": 8,
     "metadata": {},
     "output_type": "execute_result"
    }
   ],
   "source": [
    "gene_ids = data_df['ID']\n",
    "len(gene_ids)"
   ]
  },
  {
   "cell_type": "code",
   "execution_count": 9,
   "id": "initial-velvet",
   "metadata": {},
   "outputs": [
    {
     "data": {
      "text/plain": [
       "RowID\n",
       "1        A1BG\n",
       "2    A1BG-AS1\n",
       "3     A2M-AS1\n",
       "4        AAAS\n",
       "5        AACS\n",
       "Name: ID, dtype: object"
      ]
     },
     "execution_count": 9,
     "metadata": {},
     "output_type": "execute_result"
    }
   ],
   "source": [
    "gene_ids.head()"
   ]
  },
  {
   "cell_type": "markdown",
   "id": "whole-firewall",
   "metadata": {},
   "source": [
    "# 2. Normalization"
   ]
  },
  {
   "cell_type": "markdown",
   "id": "proof-passage",
   "metadata": {},
   "source": [
    "a. Calculate the sum of each columns and call this list raw_cols_sums"
   ]
  },
  {
   "cell_type": "code",
   "execution_count": 10,
   "id": "former-rescue",
   "metadata": {},
   "outputs": [
    {
     "data": {
      "text/plain": [
       "Raw_10_HC_Auto_066_237     22669490\n",
       "Raw_11_Orkambi_006_Base    18227720\n",
       "Raw_12_Orkambi_007_V2      27910590\n",
       "Raw_13_HC_Auto_068_239     19121269\n",
       "Raw_14_Orkambi_007_Base    25054999\n",
       "dtype: int64"
      ]
     },
     "execution_count": 10,
     "metadata": {},
     "output_type": "execute_result"
    }
   ],
   "source": [
    "raw_cols_sums = raw_data.sum()\n",
    "raw_cols_sums.head()"
   ]
  },
  {
   "cell_type": "markdown",
   "id": "described-newspaper",
   "metadata": {},
   "source": [
    "b. For each gene, divide it by its corresponding raw_cols_sum, multiply it by 1,000,000"
   ]
  },
  {
   "cell_type": "code",
   "execution_count": 11,
   "id": "democratic-vietnamese",
   "metadata": {},
   "outputs": [
    {
     "data": {
      "text/plain": [
       "(15570, 60)"
      ]
     },
     "execution_count": 11,
     "metadata": {},
     "output_type": "execute_result"
    }
   ],
   "source": [
    "norm_cpm_df = pd.DataFrame([raw_data.iloc[:,i]/raw_cols_sums[i]*1000000 for i in range(60)]).transpose()\n",
    "norm_cpm_df.shape"
   ]
  },
  {
   "cell_type": "code",
   "execution_count": 12,
   "id": "fewer-detector",
   "metadata": {},
   "outputs": [
    {
     "data": {
      "text/html": [
       "<div>\n",
       "<style scoped>\n",
       "    .dataframe tbody tr th:only-of-type {\n",
       "        vertical-align: middle;\n",
       "    }\n",
       "\n",
       "    .dataframe tbody tr th {\n",
       "        vertical-align: top;\n",
       "    }\n",
       "\n",
       "    .dataframe thead th {\n",
       "        text-align: right;\n",
       "    }\n",
       "</style>\n",
       "<table border=\"1\" class=\"dataframe\">\n",
       "  <thead>\n",
       "    <tr style=\"text-align: right;\">\n",
       "      <th></th>\n",
       "      <th>Raw_10_HC_Auto_066_237</th>\n",
       "      <th>Raw_11_Orkambi_006_Base</th>\n",
       "      <th>Raw_12_Orkambi_007_V2</th>\n",
       "      <th>Raw_13_HC_Auto_068_239</th>\n",
       "      <th>Raw_14_Orkambi_007_Base</th>\n",
       "    </tr>\n",
       "    <tr>\n",
       "      <th>RowID</th>\n",
       "      <th></th>\n",
       "      <th></th>\n",
       "      <th></th>\n",
       "      <th></th>\n",
       "      <th></th>\n",
       "    </tr>\n",
       "  </thead>\n",
       "  <tbody>\n",
       "    <tr>\n",
       "      <th>1</th>\n",
       "      <td>3.573084</td>\n",
       "      <td>2.084737</td>\n",
       "      <td>4.012814</td>\n",
       "      <td>2.405698</td>\n",
       "      <td>2.554380</td>\n",
       "    </tr>\n",
       "    <tr>\n",
       "      <th>2</th>\n",
       "      <td>2.161495</td>\n",
       "      <td>1.700706</td>\n",
       "      <td>3.009610</td>\n",
       "      <td>1.359742</td>\n",
       "      <td>1.516663</td>\n",
       "    </tr>\n",
       "    <tr>\n",
       "      <th>3</th>\n",
       "      <td>3.264299</td>\n",
       "      <td>5.925042</td>\n",
       "      <td>2.221379</td>\n",
       "      <td>2.457996</td>\n",
       "      <td>1.636400</td>\n",
       "    </tr>\n",
       "    <tr>\n",
       "      <th>4</th>\n",
       "      <td>7.102057</td>\n",
       "      <td>4.718089</td>\n",
       "      <td>7.058253</td>\n",
       "      <td>4.811396</td>\n",
       "      <td>4.629815</td>\n",
       "    </tr>\n",
       "    <tr>\n",
       "      <th>5</th>\n",
       "      <td>8.778318</td>\n",
       "      <td>7.022272</td>\n",
       "      <td>7.094081</td>\n",
       "      <td>6.118841</td>\n",
       "      <td>6.465776</td>\n",
       "    </tr>\n",
       "  </tbody>\n",
       "</table>\n",
       "</div>"
      ],
      "text/plain": [
       "       Raw_10_HC_Auto_066_237  Raw_11_Orkambi_006_Base  Raw_12_Orkambi_007_V2  \\\n",
       "RowID                                                                           \n",
       "1                    3.573084                 2.084737               4.012814   \n",
       "2                    2.161495                 1.700706               3.009610   \n",
       "3                    3.264299                 5.925042               2.221379   \n",
       "4                    7.102057                 4.718089               7.058253   \n",
       "5                    8.778318                 7.022272               7.094081   \n",
       "\n",
       "       Raw_13_HC_Auto_068_239  Raw_14_Orkambi_007_Base  \n",
       "RowID                                                   \n",
       "1                    2.405698                 2.554380  \n",
       "2                    1.359742                 1.516663  \n",
       "3                    2.457996                 1.636400  \n",
       "4                    4.811396                 4.629815  \n",
       "5                    6.118841                 6.465776  "
      ]
     },
     "execution_count": 12,
     "metadata": {},
     "output_type": "execute_result"
    }
   ],
   "source": [
    "norm_cpm_df.iloc[:,:5].head()"
   ]
  },
  {
   "cell_type": "code",
   "execution_count": 13,
   "id": "defensive-bearing",
   "metadata": {},
   "outputs": [
    {
     "data": {
      "text/plain": [
       "Raw_10_HC_Auto_066_237     1000000.0\n",
       "Raw_11_Orkambi_006_Base    1000000.0\n",
       "Raw_12_Orkambi_007_V2      1000000.0\n",
       "Raw_13_HC_Auto_068_239     1000000.0\n",
       "Raw_14_Orkambi_007_Base    1000000.0\n",
       "dtype: float64"
      ]
     },
     "execution_count": 13,
     "metadata": {},
     "output_type": "execute_result"
    }
   ],
   "source": [
    "norm_cpm_df.sum().head()"
   ]
  },
  {
   "cell_type": "markdown",
   "id": "valued-complement",
   "metadata": {},
   "source": [
    "# 3. Top 10 genes"
   ]
  },
  {
   "cell_type": "code",
   "execution_count": 14,
   "id": "sustained-brand",
   "metadata": {},
   "outputs": [],
   "source": [
    "top10_ci_genes = ['LOC105372578',\n",
    "                'MCEMP1',\n",
    "                'MMP9',\n",
    "                'SOCS3',\n",
    "                'ANXA3',\n",
    "                'G0S2',\n",
    "                'IL1R2',\n",
    "                'PFKFB3',\n",
    "                'OSM',\n",
    "                'SEMA6B']"
   ]
  },
  {
   "cell_type": "markdown",
   "id": "egyptian-wichita",
   "metadata": {},
   "source": [
    "a. Filter norm_cpm_df to contain only genes listed above. Call this norm_cpm_df_top10."
   ]
  },
  {
   "cell_type": "code",
   "execution_count": 15,
   "id": "integrated-twenty",
   "metadata": {},
   "outputs": [
    {
     "data": {
      "text/html": [
       "<div>\n",
       "<style scoped>\n",
       "    .dataframe tbody tr th:only-of-type {\n",
       "        vertical-align: middle;\n",
       "    }\n",
       "\n",
       "    .dataframe tbody tr th {\n",
       "        vertical-align: top;\n",
       "    }\n",
       "\n",
       "    .dataframe thead th {\n",
       "        text-align: right;\n",
       "    }\n",
       "</style>\n",
       "<table border=\"1\" class=\"dataframe\">\n",
       "  <thead>\n",
       "    <tr style=\"text-align: right;\">\n",
       "      <th></th>\n",
       "      <th>Raw_10_HC_Auto_066_237</th>\n",
       "      <th>Raw_11_Orkambi_006_Base</th>\n",
       "      <th>Raw_12_Orkambi_007_V2</th>\n",
       "      <th>Raw_13_HC_Auto_068_239</th>\n",
       "      <th>Raw_14_Orkambi_007_Base</th>\n",
       "    </tr>\n",
       "    <tr>\n",
       "      <th>ID</th>\n",
       "      <th></th>\n",
       "      <th></th>\n",
       "      <th></th>\n",
       "      <th></th>\n",
       "      <th></th>\n",
       "    </tr>\n",
       "  </thead>\n",
       "  <tbody>\n",
       "    <tr>\n",
       "      <th>A1BG</th>\n",
       "      <td>3.573084</td>\n",
       "      <td>2.084737</td>\n",
       "      <td>4.012814</td>\n",
       "      <td>2.405698</td>\n",
       "      <td>2.554380</td>\n",
       "    </tr>\n",
       "    <tr>\n",
       "      <th>A1BG-AS1</th>\n",
       "      <td>2.161495</td>\n",
       "      <td>1.700706</td>\n",
       "      <td>3.009610</td>\n",
       "      <td>1.359742</td>\n",
       "      <td>1.516663</td>\n",
       "    </tr>\n",
       "    <tr>\n",
       "      <th>A2M-AS1</th>\n",
       "      <td>3.264299</td>\n",
       "      <td>5.925042</td>\n",
       "      <td>2.221379</td>\n",
       "      <td>2.457996</td>\n",
       "      <td>1.636400</td>\n",
       "    </tr>\n",
       "    <tr>\n",
       "      <th>AAAS</th>\n",
       "      <td>7.102057</td>\n",
       "      <td>4.718089</td>\n",
       "      <td>7.058253</td>\n",
       "      <td>4.811396</td>\n",
       "      <td>4.629815</td>\n",
       "    </tr>\n",
       "    <tr>\n",
       "      <th>AACS</th>\n",
       "      <td>8.778318</td>\n",
       "      <td>7.022272</td>\n",
       "      <td>7.094081</td>\n",
       "      <td>6.118841</td>\n",
       "      <td>6.465776</td>\n",
       "    </tr>\n",
       "  </tbody>\n",
       "</table>\n",
       "</div>"
      ],
      "text/plain": [
       "          Raw_10_HC_Auto_066_237  Raw_11_Orkambi_006_Base  \\\n",
       "ID                                                          \n",
       "A1BG                    3.573084                 2.084737   \n",
       "A1BG-AS1                2.161495                 1.700706   \n",
       "A2M-AS1                 3.264299                 5.925042   \n",
       "AAAS                    7.102057                 4.718089   \n",
       "AACS                    8.778318                 7.022272   \n",
       "\n",
       "          Raw_12_Orkambi_007_V2  Raw_13_HC_Auto_068_239  \\\n",
       "ID                                                        \n",
       "A1BG                   4.012814                2.405698   \n",
       "A1BG-AS1               3.009610                1.359742   \n",
       "A2M-AS1                2.221379                2.457996   \n",
       "AAAS                   7.058253                4.811396   \n",
       "AACS                   7.094081                6.118841   \n",
       "\n",
       "          Raw_14_Orkambi_007_Base  \n",
       "ID                                 \n",
       "A1BG                     2.554380  \n",
       "A1BG-AS1                 1.516663  \n",
       "A2M-AS1                  1.636400  \n",
       "AAAS                     4.629815  \n",
       "AACS                     6.465776  "
      ]
     },
     "execution_count": 15,
     "metadata": {},
     "output_type": "execute_result"
    }
   ],
   "source": [
    "norm_cpm_df.set_index(gene_ids, inplace=True)\n",
    "norm_cpm_df.iloc[:5,:5]"
   ]
  },
  {
   "cell_type": "code",
   "execution_count": 16,
   "id": "express-acquisition",
   "metadata": {},
   "outputs": [
    {
     "data": {
      "text/plain": [
       "(10, 60)"
      ]
     },
     "execution_count": 16,
     "metadata": {},
     "output_type": "execute_result"
    }
   ],
   "source": [
    "norm_cpm_df_top10sub = norm_cpm_df.loc[top10_ci_genes,:]\n",
    "norm_cpm_df_top10sub.shape"
   ]
  },
  {
   "cell_type": "code",
   "execution_count": 17,
   "id": "unlimited-canvas",
   "metadata": {},
   "outputs": [
    {
     "data": {
      "text/html": [
       "<div>\n",
       "<style scoped>\n",
       "    .dataframe tbody tr th:only-of-type {\n",
       "        vertical-align: middle;\n",
       "    }\n",
       "\n",
       "    .dataframe tbody tr th {\n",
       "        vertical-align: top;\n",
       "    }\n",
       "\n",
       "    .dataframe thead th {\n",
       "        text-align: right;\n",
       "    }\n",
       "</style>\n",
       "<table border=\"1\" class=\"dataframe\">\n",
       "  <thead>\n",
       "    <tr style=\"text-align: right;\">\n",
       "      <th></th>\n",
       "      <th>Raw_10_HC_Auto_066_237</th>\n",
       "      <th>Raw_11_Orkambi_006_Base</th>\n",
       "      <th>Raw_12_Orkambi_007_V2</th>\n",
       "      <th>Raw_13_HC_Auto_068_239</th>\n",
       "      <th>Raw_14_Orkambi_007_Base</th>\n",
       "    </tr>\n",
       "    <tr>\n",
       "      <th>ID</th>\n",
       "      <th></th>\n",
       "      <th></th>\n",
       "      <th></th>\n",
       "      <th></th>\n",
       "      <th></th>\n",
       "    </tr>\n",
       "  </thead>\n",
       "  <tbody>\n",
       "    <tr>\n",
       "      <th>LOC105372578</th>\n",
       "      <td>3.484860</td>\n",
       "      <td>7.570887</td>\n",
       "      <td>2.508009</td>\n",
       "      <td>4.759098</td>\n",
       "      <td>29.854322</td>\n",
       "    </tr>\n",
       "    <tr>\n",
       "      <th>MCEMP1</th>\n",
       "      <td>5.866916</td>\n",
       "      <td>4.882673</td>\n",
       "      <td>2.758809</td>\n",
       "      <td>4.759098</td>\n",
       "      <td>30.053883</td>\n",
       "    </tr>\n",
       "    <tr>\n",
       "      <th>MMP9</th>\n",
       "      <td>48.214583</td>\n",
       "      <td>68.906040</td>\n",
       "      <td>83.480858</td>\n",
       "      <td>59.044198</td>\n",
       "      <td>380.004006</td>\n",
       "    </tr>\n",
       "    <tr>\n",
       "      <th>SOCS3</th>\n",
       "      <td>66.829911</td>\n",
       "      <td>131.941899</td>\n",
       "      <td>42.313688</td>\n",
       "      <td>83.362668</td>\n",
       "      <td>352.584329</td>\n",
       "    </tr>\n",
       "    <tr>\n",
       "      <th>ANXA3</th>\n",
       "      <td>55.272527</td>\n",
       "      <td>71.045638</td>\n",
       "      <td>20.995615</td>\n",
       "      <td>83.205775</td>\n",
       "      <td>307.603285</td>\n",
       "    </tr>\n",
       "    <tr>\n",
       "      <th>G0S2</th>\n",
       "      <td>1.235140</td>\n",
       "      <td>5.431288</td>\n",
       "      <td>2.113893</td>\n",
       "      <td>1.464338</td>\n",
       "      <td>7.224107</td>\n",
       "    </tr>\n",
       "    <tr>\n",
       "      <th>IL1R2</th>\n",
       "      <td>55.228415</td>\n",
       "      <td>93.483990</td>\n",
       "      <td>49.515256</td>\n",
       "      <td>83.414966</td>\n",
       "      <td>154.100984</td>\n",
       "    </tr>\n",
       "    <tr>\n",
       "      <th>PFKFB3</th>\n",
       "      <td>39.656825</td>\n",
       "      <td>59.963616</td>\n",
       "      <td>27.516437</td>\n",
       "      <td>62.652745</td>\n",
       "      <td>249.411305</td>\n",
       "    </tr>\n",
       "    <tr>\n",
       "      <th>OSM</th>\n",
       "      <td>6.881496</td>\n",
       "      <td>14.702881</td>\n",
       "      <td>5.338475</td>\n",
       "      <td>8.263050</td>\n",
       "      <td>40.830175</td>\n",
       "    </tr>\n",
       "    <tr>\n",
       "      <th>SEMA6B</th>\n",
       "      <td>1.235140</td>\n",
       "      <td>0.877784</td>\n",
       "      <td>1.218176</td>\n",
       "      <td>0.993658</td>\n",
       "      <td>2.554380</td>\n",
       "    </tr>\n",
       "  </tbody>\n",
       "</table>\n",
       "</div>"
      ],
      "text/plain": [
       "              Raw_10_HC_Auto_066_237  Raw_11_Orkambi_006_Base  \\\n",
       "ID                                                              \n",
       "LOC105372578                3.484860                 7.570887   \n",
       "MCEMP1                      5.866916                 4.882673   \n",
       "MMP9                       48.214583                68.906040   \n",
       "SOCS3                      66.829911               131.941899   \n",
       "ANXA3                      55.272527                71.045638   \n",
       "G0S2                        1.235140                 5.431288   \n",
       "IL1R2                      55.228415                93.483990   \n",
       "PFKFB3                     39.656825                59.963616   \n",
       "OSM                         6.881496                14.702881   \n",
       "SEMA6B                      1.235140                 0.877784   \n",
       "\n",
       "              Raw_12_Orkambi_007_V2  Raw_13_HC_Auto_068_239  \\\n",
       "ID                                                            \n",
       "LOC105372578               2.508009                4.759098   \n",
       "MCEMP1                     2.758809                4.759098   \n",
       "MMP9                      83.480858               59.044198   \n",
       "SOCS3                     42.313688               83.362668   \n",
       "ANXA3                     20.995615               83.205775   \n",
       "G0S2                       2.113893                1.464338   \n",
       "IL1R2                     49.515256               83.414966   \n",
       "PFKFB3                    27.516437               62.652745   \n",
       "OSM                        5.338475                8.263050   \n",
       "SEMA6B                     1.218176                0.993658   \n",
       "\n",
       "              Raw_14_Orkambi_007_Base  \n",
       "ID                                     \n",
       "LOC105372578                29.854322  \n",
       "MCEMP1                      30.053883  \n",
       "MMP9                       380.004006  \n",
       "SOCS3                      352.584329  \n",
       "ANXA3                      307.603285  \n",
       "G0S2                         7.224107  \n",
       "IL1R2                      154.100984  \n",
       "PFKFB3                     249.411305  \n",
       "OSM                         40.830175  \n",
       "SEMA6B                       2.554380  "
      ]
     },
     "execution_count": 17,
     "metadata": {},
     "output_type": "execute_result"
    }
   ],
   "source": [
    "norm_cpm_df_top10sub.iloc[:,:5]"
   ]
  },
  {
   "cell_type": "markdown",
   "id": "increased-mathematics",
   "metadata": {},
   "source": [
    "The columns of the dataframe are labeled as such:\n",
    "-\tany column name that has the term HC is a Health Control\n",
    "-\tany column with Base is a patient with CF but no Treatment\n",
    "-\tany column with V2 is a CF patient with treatment\n",
    "\n",
    "b. Split norm_cpm_df_top10 into 2 different dataframes\n",
    "-\tone with just healthy values, call it hc_top10\n",
    "-\tone with just CF (Base) values , call it cf_top10"
   ]
  },
  {
   "cell_type": "code",
   "execution_count": 18,
   "id": "annoying-times",
   "metadata": {},
   "outputs": [
    {
     "data": {
      "text/plain": [
       "(10, 20)"
      ]
     },
     "execution_count": 18,
     "metadata": {},
     "output_type": "execute_result"
    }
   ],
   "source": [
    "import re\n",
    "hc_cnames = ['HC'in c_name for c_name in list(norm_cpm_df_top10sub)]\n",
    "hc_top10 = norm_cpm_df_top10sub.loc[: , hc_cnames]\n",
    "hc_top10.shape"
   ]
  },
  {
   "cell_type": "code",
   "execution_count": 19,
   "id": "front-scratch",
   "metadata": {},
   "outputs": [
    {
     "data": {
      "text/plain": [
       "(10, 20)"
      ]
     },
     "execution_count": 19,
     "metadata": {},
     "output_type": "execute_result"
    }
   ],
   "source": [
    "cf_cnames = ['Base' in c_name for c_name in list(norm_cpm_df_top10sub)]\n",
    "cf_top10 = norm_cpm_df_top10sub.loc[: , cf_cnames]\n",
    "cf_top10.shape"
   ]
  },
  {
   "cell_type": "code",
   "execution_count": 20,
   "id": "rough-bachelor",
   "metadata": {},
   "outputs": [
    {
     "data": {
      "text/plain": [
       "(10, 20)"
      ]
     },
     "execution_count": 20,
     "metadata": {},
     "output_type": "execute_result"
    }
   ],
   "source": [
    "tr_cnames = ['V2' in c_name for c_name in list(norm_cpm_df_top10sub)]\n",
    "tr_top10 = norm_cpm_df_top10sub.loc[: , tr_cnames]\n",
    "tr_top10.shape"
   ]
  },
  {
   "cell_type": "markdown",
   "id": "charitable-sacrifice",
   "metadata": {},
   "source": [
    "c. Transpose both dataframes so that the gene ids will now be columns. Call it hc_top10_t and cf_top10_t"
   ]
  },
  {
   "cell_type": "code",
   "execution_count": 21,
   "id": "confused-agency",
   "metadata": {},
   "outputs": [],
   "source": [
    "hc_top10_t = hc_top10.transpose()\n",
    "cf_top10_t = cf_top10.transpose()"
   ]
  },
  {
   "cell_type": "markdown",
   "id": "brief-limit",
   "metadata": {},
   "source": [
    "- Add a new column filled with 0 to hc_top_t call it Y\n",
    "- Add a new column filled with 1 to cf_top_t call it Y\n",
    "Y is going to be our label\n",
    "\n",
    "d. Merge hc_top10_t and cf_top10_t. You should now have 40 rows and 11 columns.\n",
    "Call this hc_cf_top10"
   ]
  },
  {
   "cell_type": "code",
   "execution_count": 22,
   "id": "invisible-colon",
   "metadata": {},
   "outputs": [
    {
     "data": {
      "text/plain": [
       "(40, 11)"
      ]
     },
     "execution_count": 22,
     "metadata": {},
     "output_type": "execute_result"
    }
   ],
   "source": [
    "hc_top10_t['Y'] = 0\n",
    "cf_top10_t['Y'] = 1\n",
    "hc_cf_top10 = pd.concat([hc_top10_t, cf_top10_t])\n",
    "hc_cf_top10.shape"
   ]
  },
  {
   "cell_type": "code",
   "execution_count": 23,
   "id": "sunrise-tribune",
   "metadata": {},
   "outputs": [
    {
     "data": {
      "text/html": [
       "<div>\n",
       "<style scoped>\n",
       "    .dataframe tbody tr th:only-of-type {\n",
       "        vertical-align: middle;\n",
       "    }\n",
       "\n",
       "    .dataframe tbody tr th {\n",
       "        vertical-align: top;\n",
       "    }\n",
       "\n",
       "    .dataframe thead th {\n",
       "        text-align: right;\n",
       "    }\n",
       "</style>\n",
       "<table border=\"1\" class=\"dataframe\">\n",
       "  <thead>\n",
       "    <tr style=\"text-align: right;\">\n",
       "      <th>ID</th>\n",
       "      <th>LOC105372578</th>\n",
       "      <th>MCEMP1</th>\n",
       "      <th>MMP9</th>\n",
       "      <th>SOCS3</th>\n",
       "      <th>ANXA3</th>\n",
       "      <th>G0S2</th>\n",
       "      <th>IL1R2</th>\n",
       "      <th>PFKFB3</th>\n",
       "      <th>OSM</th>\n",
       "      <th>SEMA6B</th>\n",
       "      <th>Y</th>\n",
       "    </tr>\n",
       "  </thead>\n",
       "  <tbody>\n",
       "    <tr>\n",
       "      <th>Raw_10_HC_Auto_066_237</th>\n",
       "      <td>3.484860</td>\n",
       "      <td>5.866916</td>\n",
       "      <td>48.214583</td>\n",
       "      <td>66.829911</td>\n",
       "      <td>55.272527</td>\n",
       "      <td>1.235140</td>\n",
       "      <td>55.228415</td>\n",
       "      <td>39.656825</td>\n",
       "      <td>6.881496</td>\n",
       "      <td>1.235140</td>\n",
       "      <td>0</td>\n",
       "    </tr>\n",
       "    <tr>\n",
       "      <th>Raw_13_HC_Auto_068_239</th>\n",
       "      <td>4.759098</td>\n",
       "      <td>4.759098</td>\n",
       "      <td>59.044198</td>\n",
       "      <td>83.362668</td>\n",
       "      <td>83.205775</td>\n",
       "      <td>1.464338</td>\n",
       "      <td>83.414966</td>\n",
       "      <td>62.652745</td>\n",
       "      <td>8.263050</td>\n",
       "      <td>0.993658</td>\n",
       "      <td>0</td>\n",
       "    </tr>\n",
       "    <tr>\n",
       "      <th>Raw_16_HC_Auto_072_243</th>\n",
       "      <td>3.430145</td>\n",
       "      <td>4.668809</td>\n",
       "      <td>53.643662</td>\n",
       "      <td>91.121177</td>\n",
       "      <td>81.402431</td>\n",
       "      <td>2.032679</td>\n",
       "      <td>83.847998</td>\n",
       "      <td>63.616492</td>\n",
       "      <td>8.988251</td>\n",
       "      <td>1.016339</td>\n",
       "      <td>0</td>\n",
       "    </tr>\n",
       "    <tr>\n",
       "      <th>Raw_19_HC_Auto_074_245</th>\n",
       "      <td>2.832716</td>\n",
       "      <td>3.142544</td>\n",
       "      <td>22.971555</td>\n",
       "      <td>42.490738</td>\n",
       "      <td>35.630254</td>\n",
       "      <td>1.991753</td>\n",
       "      <td>61.921398</td>\n",
       "      <td>41.516992</td>\n",
       "      <td>5.045775</td>\n",
       "      <td>1.018007</td>\n",
       "      <td>0</td>\n",
       "    </tr>\n",
       "    <tr>\n",
       "      <th>Raw_21_HC_Immune_004</th>\n",
       "      <td>6.348553</td>\n",
       "      <td>5.668351</td>\n",
       "      <td>49.946267</td>\n",
       "      <td>99.503848</td>\n",
       "      <td>88.458661</td>\n",
       "      <td>1.749091</td>\n",
       "      <td>88.264318</td>\n",
       "      <td>50.496907</td>\n",
       "      <td>9.911516</td>\n",
       "      <td>1.068889</td>\n",
       "      <td>0</td>\n",
       "    </tr>\n",
       "  </tbody>\n",
       "</table>\n",
       "</div>"
      ],
      "text/plain": [
       "ID                      LOC105372578    MCEMP1       MMP9      SOCS3  \\\n",
       "Raw_10_HC_Auto_066_237      3.484860  5.866916  48.214583  66.829911   \n",
       "Raw_13_HC_Auto_068_239      4.759098  4.759098  59.044198  83.362668   \n",
       "Raw_16_HC_Auto_072_243      3.430145  4.668809  53.643662  91.121177   \n",
       "Raw_19_HC_Auto_074_245      2.832716  3.142544  22.971555  42.490738   \n",
       "Raw_21_HC_Immune_004        6.348553  5.668351  49.946267  99.503848   \n",
       "\n",
       "ID                          ANXA3      G0S2      IL1R2     PFKFB3       OSM  \\\n",
       "Raw_10_HC_Auto_066_237  55.272527  1.235140  55.228415  39.656825  6.881496   \n",
       "Raw_13_HC_Auto_068_239  83.205775  1.464338  83.414966  62.652745  8.263050   \n",
       "Raw_16_HC_Auto_072_243  81.402431  2.032679  83.847998  63.616492  8.988251   \n",
       "Raw_19_HC_Auto_074_245  35.630254  1.991753  61.921398  41.516992  5.045775   \n",
       "Raw_21_HC_Immune_004    88.458661  1.749091  88.264318  50.496907  9.911516   \n",
       "\n",
       "ID                        SEMA6B  Y  \n",
       "Raw_10_HC_Auto_066_237  1.235140  0  \n",
       "Raw_13_HC_Auto_068_239  0.993658  0  \n",
       "Raw_16_HC_Auto_072_243  1.016339  0  \n",
       "Raw_19_HC_Auto_074_245  1.018007  0  \n",
       "Raw_21_HC_Immune_004    1.068889  0  "
      ]
     },
     "execution_count": 23,
     "metadata": {},
     "output_type": "execute_result"
    }
   ],
   "source": [
    "hc_cf_top10.head()"
   ]
  },
  {
   "cell_type": "markdown",
   "id": "single-trout",
   "metadata": {},
   "source": [
    "## cross validation use 5X cross validation on the entire dataset & random_state = 1 "
   ]
  },
  {
   "cell_type": "markdown",
   "id": "illegal-dylan",
   "metadata": {},
   "source": [
    "a. Split hc_cf_top10 into X and Y. "
   ]
  },
  {
   "cell_type": "code",
   "execution_count": 24,
   "id": "rural-framing",
   "metadata": {},
   "outputs": [
    {
     "data": {
      "text/plain": [
       "((40, 10), (40,))"
      ]
     },
     "execution_count": 24,
     "metadata": {},
     "output_type": "execute_result"
    }
   ],
   "source": [
    "X,y = hc_cf_top10.iloc[:, :10], hc_cf_top10.iloc[:, -1]\n",
    "(X.shape, y.shape)"
   ]
  },
  {
   "cell_type": "code",
   "execution_count": 25,
   "id": "swedish-fairy",
   "metadata": {},
   "outputs": [
    {
     "data": {
      "text/html": [
       "<div>\n",
       "<style scoped>\n",
       "    .dataframe tbody tr th:only-of-type {\n",
       "        vertical-align: middle;\n",
       "    }\n",
       "\n",
       "    .dataframe tbody tr th {\n",
       "        vertical-align: top;\n",
       "    }\n",
       "\n",
       "    .dataframe thead th {\n",
       "        text-align: right;\n",
       "    }\n",
       "</style>\n",
       "<table border=\"1\" class=\"dataframe\">\n",
       "  <thead>\n",
       "    <tr style=\"text-align: right;\">\n",
       "      <th>ID</th>\n",
       "      <th>LOC105372578</th>\n",
       "      <th>MCEMP1</th>\n",
       "      <th>MMP9</th>\n",
       "      <th>SOCS3</th>\n",
       "      <th>ANXA3</th>\n",
       "      <th>G0S2</th>\n",
       "      <th>IL1R2</th>\n",
       "      <th>PFKFB3</th>\n",
       "      <th>OSM</th>\n",
       "      <th>SEMA6B</th>\n",
       "    </tr>\n",
       "  </thead>\n",
       "  <tbody>\n",
       "    <tr>\n",
       "      <th>Raw_10_HC_Auto_066_237</th>\n",
       "      <td>3.484860</td>\n",
       "      <td>5.866916</td>\n",
       "      <td>48.214583</td>\n",
       "      <td>66.829911</td>\n",
       "      <td>55.272527</td>\n",
       "      <td>1.235140</td>\n",
       "      <td>55.228415</td>\n",
       "      <td>39.656825</td>\n",
       "      <td>6.881496</td>\n",
       "      <td>1.235140</td>\n",
       "    </tr>\n",
       "    <tr>\n",
       "      <th>Raw_13_HC_Auto_068_239</th>\n",
       "      <td>4.759098</td>\n",
       "      <td>4.759098</td>\n",
       "      <td>59.044198</td>\n",
       "      <td>83.362668</td>\n",
       "      <td>83.205775</td>\n",
       "      <td>1.464338</td>\n",
       "      <td>83.414966</td>\n",
       "      <td>62.652745</td>\n",
       "      <td>8.263050</td>\n",
       "      <td>0.993658</td>\n",
       "    </tr>\n",
       "    <tr>\n",
       "      <th>Raw_16_HC_Auto_072_243</th>\n",
       "      <td>3.430145</td>\n",
       "      <td>4.668809</td>\n",
       "      <td>53.643662</td>\n",
       "      <td>91.121177</td>\n",
       "      <td>81.402431</td>\n",
       "      <td>2.032679</td>\n",
       "      <td>83.847998</td>\n",
       "      <td>63.616492</td>\n",
       "      <td>8.988251</td>\n",
       "      <td>1.016339</td>\n",
       "    </tr>\n",
       "    <tr>\n",
       "      <th>Raw_19_HC_Auto_074_245</th>\n",
       "      <td>2.832716</td>\n",
       "      <td>3.142544</td>\n",
       "      <td>22.971555</td>\n",
       "      <td>42.490738</td>\n",
       "      <td>35.630254</td>\n",
       "      <td>1.991753</td>\n",
       "      <td>61.921398</td>\n",
       "      <td>41.516992</td>\n",
       "      <td>5.045775</td>\n",
       "      <td>1.018007</td>\n",
       "    </tr>\n",
       "    <tr>\n",
       "      <th>Raw_21_HC_Immune_004</th>\n",
       "      <td>6.348553</td>\n",
       "      <td>5.668351</td>\n",
       "      <td>49.946267</td>\n",
       "      <td>99.503848</td>\n",
       "      <td>88.458661</td>\n",
       "      <td>1.749091</td>\n",
       "      <td>88.264318</td>\n",
       "      <td>50.496907</td>\n",
       "      <td>9.911516</td>\n",
       "      <td>1.068889</td>\n",
       "    </tr>\n",
       "  </tbody>\n",
       "</table>\n",
       "</div>"
      ],
      "text/plain": [
       "ID                      LOC105372578    MCEMP1       MMP9      SOCS3  \\\n",
       "Raw_10_HC_Auto_066_237      3.484860  5.866916  48.214583  66.829911   \n",
       "Raw_13_HC_Auto_068_239      4.759098  4.759098  59.044198  83.362668   \n",
       "Raw_16_HC_Auto_072_243      3.430145  4.668809  53.643662  91.121177   \n",
       "Raw_19_HC_Auto_074_245      2.832716  3.142544  22.971555  42.490738   \n",
       "Raw_21_HC_Immune_004        6.348553  5.668351  49.946267  99.503848   \n",
       "\n",
       "ID                          ANXA3      G0S2      IL1R2     PFKFB3       OSM  \\\n",
       "Raw_10_HC_Auto_066_237  55.272527  1.235140  55.228415  39.656825  6.881496   \n",
       "Raw_13_HC_Auto_068_239  83.205775  1.464338  83.414966  62.652745  8.263050   \n",
       "Raw_16_HC_Auto_072_243  81.402431  2.032679  83.847998  63.616492  8.988251   \n",
       "Raw_19_HC_Auto_074_245  35.630254  1.991753  61.921398  41.516992  5.045775   \n",
       "Raw_21_HC_Immune_004    88.458661  1.749091  88.264318  50.496907  9.911516   \n",
       "\n",
       "ID                        SEMA6B  \n",
       "Raw_10_HC_Auto_066_237  1.235140  \n",
       "Raw_13_HC_Auto_068_239  0.993658  \n",
       "Raw_16_HC_Auto_072_243  1.016339  \n",
       "Raw_19_HC_Auto_074_245  1.018007  \n",
       "Raw_21_HC_Immune_004    1.068889  "
      ]
     },
     "execution_count": 25,
     "metadata": {},
     "output_type": "execute_result"
    }
   ],
   "source": [
    "X.head()"
   ]
  },
  {
   "cell_type": "code",
   "execution_count": 26,
   "id": "periodic-attention",
   "metadata": {},
   "outputs": [
    {
     "data": {
      "text/plain": [
       "Raw_10_HC_Auto_066_237    0\n",
       "Raw_13_HC_Auto_068_239    0\n",
       "Raw_16_HC_Auto_072_243    0\n",
       "Raw_19_HC_Auto_074_245    0\n",
       "Raw_21_HC_Immune_004      0\n",
       "Name: Y, dtype: int64"
      ]
     },
     "execution_count": 26,
     "metadata": {},
     "output_type": "execute_result"
    }
   ],
   "source": [
    "y.head()"
   ]
  },
  {
   "cell_type": "markdown",
   "id": "toxic-thriller",
   "metadata": {},
   "source": [
    "a. Perform SVM using the cross validation function.\n",
    "Perform 5x cross validation Try:\n",
    "- different values for C ( less than 1, 1, and greater than 1)\n",
    "- different kernels (linear and radial)"
   ]
  },
  {
   "cell_type": "code",
   "execution_count": 27,
   "id": "accomplished-composite",
   "metadata": {},
   "outputs": [
    {
     "name": "stdout",
     "output_type": "stream",
     "text": [
      "with kernal=rbf, C=-0.5: accuracy=nan, std=nan\n",
      " \n",
      "with kernal=rbf, C=1: accuracy=0.85, std=0.09\n",
      " \n",
      "with kernal=rbf, C=5: accuracy=0.85, std=0.09\n",
      " \n",
      "with kernal=rbf, C=10: accuracy=0.85, std=0.09\n",
      " \n",
      "with kernal=rbf, C=100: accuracy=0.85, std=0.05\n",
      " \n",
      "======\n",
      "with kernal=linear, C=-0.5: accuracy=nan, std=nan\n",
      " \n",
      "with kernal=linear, C=1: accuracy=0.8, std=0.06\n",
      " \n",
      "with kernal=linear, C=5: accuracy=0.8, std=0.06\n",
      " \n",
      "with kernal=linear, C=10: accuracy=0.775, std=0.05\n",
      " \n",
      "with kernal=linear, C=100: accuracy=0.775, std=0.05\n",
      " \n",
      "======\n",
      "with kernal=poly, C=-0.5: accuracy=nan, std=nan\n",
      " \n",
      "with kernal=poly, C=1: accuracy=0.8, std=0.1\n",
      " \n",
      "with kernal=poly, C=5: accuracy=0.85, std=0.09\n",
      " \n",
      "with kernal=poly, C=10: accuracy=0.825, std=0.13\n",
      " \n",
      "with kernal=poly, C=100: accuracy=0.825, std=0.06\n",
      " \n",
      "======\n",
      "with kernal=sigmoid, C=-0.5: accuracy=nan, std=nan\n",
      " \n",
      "with kernal=sigmoid, C=1: accuracy=0.625, std=0.08\n",
      " \n",
      "with kernal=sigmoid, C=5: accuracy=0.525, std=0.12\n",
      " \n",
      "with kernal=sigmoid, C=10: accuracy=0.5, std=0.14\n",
      " \n",
      "with kernal=sigmoid, C=100: accuracy=0.525, std=0.12\n",
      " \n",
      "======\n"
     ]
    }
   ],
   "source": [
    "kn = ['rbf', 'linear', 'poly', 'sigmoid']\n",
    "c_val = [-0.5, 1, 5, 10, 100]\n",
    "\n",
    "for k in kn:\n",
    "    for c_v in c_val:\n",
    "        clf = svm.SVC(kernel=k, random_state=1,C=c_v)\n",
    "        scores = cross_val_score(clf, X, y, cv=5)\n",
    "        print(f'with kernal={k}, C={c_v}: accuracy={scores.mean()}, std={round(scores.std(),2)}\\n ')\n",
    "    print('======')"
   ]
  },
  {
   "cell_type": "markdown",
   "id": "mysterious-monitor",
   "metadata": {},
   "source": [
    "b. Best combination in my calculation is RBF when C = 100: \n",
    "- the accuracy=0.85, std=0.05"
   ]
  },
  {
   "cell_type": "markdown",
   "id": "affecting-geography",
   "metadata": {},
   "source": [
    "c. explain the score is reported."
   ]
  },
  {
   "cell_type": "code",
   "execution_count": 28,
   "id": "capable-ethics",
   "metadata": {},
   "outputs": [
    {
     "data": {
      "image/png": "[encoded data removed]",
      "text/plain": [
       "<Figure size 432x288 with 1 Axes>"
      ]
     },
     "metadata": {
      "needs_background": "light"
     },
     "output_type": "display_data"
    }
   ],
   "source": [
    "# plotting to review the data\n",
    "# reduce dimension\n",
    "pca = PCA(n_components=2)\n",
    "X_reduced = pca.fit_transform(X)\n",
    "\n",
    "plt.scatter(X_reduced[:, 0], X_reduced[:, 1], c=y)\n",
    "plt.show()"
   ]
  },
  {
   "cell_type": "markdown",
   "id": "popular-subcommittee",
   "metadata": {},
   "source": [
    "The score was calculated by splitting the data, fitting a model and computing the score 5 consecutive times. the corresponding mean & standard deviation of the 5 scores were reported for each model. \n",
    "Based on research that has been done, it is obtained that the accuracy values generated by SVM with RBF kernel functions is higher than the other kernel functions. RBF uses normal curves around the data points, and sums these so that the decision boundary can be defined by a type of topology condition. Higher C value means less regulation and thus the dicision boundary become more bump and coarse. "
   ]
  }
 ],
 "metadata": {
  "kernelspec": {
   "display_name": "Python 3 (ipykernel)",
   "language": "python",
   "name": "python3"
  },
  "language_info": {
   "codemirror_mode": {
    "name": "ipython",
    "version": 3
   },
   "file_extension": ".py",
   "mimetype": "text/x-python",
   "name": "python",
   "nbconvert_exporter": "python",
   "pygments_lexer": "ipython3",
   "version": "3.9.7"
  }
 },
 "nbformat": 4,
 "nbformat_minor": 5
}
